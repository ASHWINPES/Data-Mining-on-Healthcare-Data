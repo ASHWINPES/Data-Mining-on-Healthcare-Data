{
  "nbformat": 4,
  "nbformat_minor": 0,
  "metadata": {
    "colab": {
      "provenance": []
    },
    "kernelspec": {
      "name": "python3",
      "display_name": "Python 3"
    },
    "language_info": {
      "name": "python"
    }
  },
  "cells": [
    {
      "cell_type": "code",
      "execution_count": null,
      "metadata": {
        "id": "vvDYsnRVekR9"
      },
      "outputs": [],
      "source": [
        "from google.colab import drive\n",
        "drive.mount('/content/drive')"
      ]
    },
    {
      "cell_type": "code",
      "source": [
        "# %% Imports\n",
        "import numpy as np"
      ],
      "metadata": {
        "id": "lhGz2R4oxjCy"
      },
      "execution_count": null,
      "outputs": []
    },
    {
      "cell_type": "code",
      "source": [
        "# %% Functions\n",
        "\n",
        "def convert_to_numeric(arr):\n",
        "\n",
        "    for col in range(arr.shape[1]):\n",
        "\n",
        "        try:\n",
        "            arr[:, col] = arr[:, col].astype(float)\n",
        "        except ValueError:\n",
        "            arr[:, col] = np.unique(arr[:, col], return_inverse=True)[1].astype(int)\n",
        "\n",
        "    return arr\n",
        "\n",
        "\n",
        "def knn(train_data, test_data, neighbors):\n",
        "\n",
        "    result = []\n",
        "\n",
        "    test_x = test_data[:, :-1]\n",
        "    train_x = train_data[:, :-1]\n",
        "    train_y = train_data[:, -1]\n",
        "\n",
        "    test_x = convert_to_numeric(test_x).astype(float)\n",
        "    train_x = convert_to_numeric(train_x).astype(float)\n",
        "    train_y = train_y.astype(int)\n",
        "\n",
        "    for test_val in test_x:\n",
        "\n",
        "        # Calculate Eucledian Distance\n",
        "        distances = np.linalg.norm(test_val.reshape(1, -1) - train_x, axis=1)\n",
        "        neighborhood = np.argsort(distances)[:neighbors]\n",
        "\n",
        "        test_val_y_candidates = train_y[neighborhood]\n",
        "        class_counts = np.bincount(test_val_y_candidates)\n",
        "        majority_class = np.argmax(class_counts)\n",
        "\n",
        "        result.append(majority_class)\n",
        "\n",
        "    return np.array(result)"
      ],
      "metadata": {
        "id": "fbhIAXI6yEKh"
      },
      "execution_count": null,
      "outputs": []
    },
    {
      "cell_type": "code",
      "source": [
        "# %% Main Execution\n",
        "file_name=\"/content/drive/MyDrive/dm/Project2/project2_dataset2.txt\"\n",
        "data = np.loadtxt(file_name, delimiter=\"\\t\",dtype='str')\n",
        "data = np.asarray(data)\n",
        "k=input(\"Enter value of k: \")\n",
        "K_Fold=10\n",
        "ten_fold_cross_valid = np.array_split(data, K_Fold)\n",
        "accuracy =[]\n",
        "precision = []\n",
        "recall = []\n",
        "f_measure = []\n",
        "\n",
        "assert K_Fold > 1 , 'not a valid input for multi fold Cross-validation'\n",
        "\n",
        "for index in range(len(ten_fold_cross_valid)):\n",
        "\n",
        "    test_data=ten_fold_cross_valid[index]\n",
        "    train_data=np.array(np.vstack([x for i,x in enumerate(ten_fold_cross_valid) if i != index]))\n",
        "\n",
        "    result = knn(train_data, test_data, k)\n",
        "    test_y = test_data[:, -1].astype(int)\n",
        "\n",
        "    TP = FN = FP = TN = 0\n",
        "\n",
        "    FP = ((result == 1) & (test_y == 0)).sum()\n",
        "    TP = ((result == 1) & (test_y == 1)).sum()\n",
        "    FN = ((result == 0) & (test_y == 1)).sum()\n",
        "    TN = ((result == 0) & (test_y == 0)).sum()\n",
        "\n",
        "    if TP + FN + FP + TN != 0:\n",
        "        accuracy.append(float(TP + TN)/(TP + FN + FP + TN))\n",
        "    if TP + FP != 0:\n",
        "        precision.append(float(TP)/(TP + FP))\n",
        "    if TP + FN !=0:\n",
        "        recall.append(float(TP)/(TP + FN))\n",
        "    if TP + FN + FP !=0:\n",
        "        f_measure.append(float(2 * TP) / ((2 * TP) + FN + FP))\n",
        "\n",
        "print(\"Average accuracy  : \"+  str(sum(accuracy)*100/len(accuracy)))\n",
        "print(\"Average precision : \"+  str(sum(precision)*100/len(precision)))\n",
        "print(\"Average recall    : \"+  str(sum(recall)*100/len(recall)))\n",
        "print(\"Average f_measure : \"+  str(sum(f_measure)*100/len(f_measure)))"
      ],
      "metadata": {
        "id": "FlpYIsqrhHoQ"
      },
      "execution_count": null,
      "outputs": []
    }
  ]
}