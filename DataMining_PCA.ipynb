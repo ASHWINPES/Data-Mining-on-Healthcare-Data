{
  "cells": [
    {
      "cell_type": "markdown",
      "metadata": {
        "id": "xWiit4IID6R7"
      },
      "source": [
        "Read the datasets and convert into a dataframe table"
      ]
    },
    {
      "cell_type": "code",
      "execution_count": null,
      "metadata": {
        "colab": {
          "base_uri": "https://localhost:8080/"
        },
        "id": "eozwZlbXBWjO",
        "outputId": "70742cd8-7669-4889-c7ac-a93c99336035"
      },
      "outputs": [],
      "source": [
        "import pandas as pd\n",
        "pca_df = pd.read_csv('/content/drive/My Drive/dm/pca_a.txt',sep='\\t',header=None)\n",
        "#pca_df = pd.read_csv('/content/drive/My Drive/dm/pca_b.txt',sep='\\t',header=None)\n",
        "#pca_df = pd.read_csv('/content/drive/My Drive/dm/pca_c.txt',sep='\\t',header=None)\n",
        "print(pca_df)"
      ]
    },
    {
      "cell_type": "code",
      "execution_count": null,
      "metadata": {
        "colab": {
          "base_uri": "https://localhost:8080/"
        },
        "id": "RwvaoT19D4_R",
        "outputId": "eeff6720-53ee-4f2f-907e-35bf55f9e671"
      },
      "outputs": [],
      "source": [
        "import numpy as np\n",
        "from collections import Counter\n",
        "X=pca_df.iloc[:,:-1]\n",
        "#Y = pca_df[pca_df.columns[len(pca_df.columns)-1]]\n",
        "Y=pd.factorize(pca_df.iloc[:,-1])[0]\n",
        "print(X)\n",
        "print(Y)\n",
        "print(Counter(Y))"
      ]
    },
    {
      "cell_type": "code",
      "execution_count": null,
      "metadata": {
        "colab": {
          "base_uri": "https://localhost:8080/"
        },
        "id": "Bg7wNQBvcCN9",
        "outputId": "08132e2d-dc96-4605-902e-fbeea46cc3ba"
      },
      "outputs": [],
      "source": [
        "import platform\n",
        "print(platform.python_version())"
      ]
    },
    {
      "cell_type": "code",
      "execution_count": null,
      "metadata": {
        "id": "wxu39gWeORSr"
      },
      "outputs": [],
      "source": [
        "X_meaned = X - np.mean(X, axis=0)\n",
        "print(X_meaned)"
      ]
    },
    {
      "cell_type": "code",
      "execution_count": null,
      "metadata": {
        "id": "kAvodyRmQmNi"
      },
      "outputs": [],
      "source": [
        "cov_mat = np.cov(X_meaned, rowvar=False)\n",
        "print(cov_mat)"
      ]
    },
    {
      "cell_type": "code",
      "execution_count": null,
      "metadata": {
        "id": "Hh7Mzb1RRajb"
      },
      "outputs": [],
      "source": [
        "eigenValues, eigenVectors = np.linalg.eigh(cov_mat)\n",
        "sorted_indexes = np.argsort(eigenValues)[::-1]\n",
        "sorted_eigenValues = eigenValues[sorted_indexes]\n",
        "sorted_eigenVectors = eigenVectors[:,sorted_indexes]"
      ]
    },
    {
      "cell_type": "code",
      "execution_count": null,
      "metadata": {
        "id": "L0YITb4NS0Wy"
      },
      "outputs": [],
      "source": [
        "eigenVectors_subset = sorted_eigenVectors[:,0:2]"
      ]
    },
    {
      "cell_type": "code",
      "execution_count": null,
      "metadata": {
        "id": "86wLaRkjTkqz"
      },
      "outputs": [],
      "source": [
        "X_reduced = np.dot(eigenVectors_subset.transpose(),X_meaned.transpose()).transpose()"
      ]
    },
    {
      "cell_type": "code",
      "execution_count": null,
      "metadata": {
        "id": "F5CRy-J9UX72"
      },
      "outputs": [],
      "source": [
        "principal_df = pd.DataFrame(X_reduced, columns = ['PC1','PC2'])\n",
        "#principal_df = pd.concat([principal_df, pd.DataFrame(Y)] , axis = 1)\n",
        "#print(principal_df)\n",
        "#added by me\n",
        "principal_df = np.asarray(principal_df)\n",
        "print(principal_df)"
      ]
    },
    {
      "cell_type": "code",
      "execution_count": null,
      "metadata": {
        "id": "vsns991uU8KB"
      },
      "outputs": [],
      "source": [
        "import seaborn as sb\n",
        "import matplotlib.pyplot as plt\n",
        "\n",
        "#plt.figure(figsize = (6,6))\n",
        "#sb.scatterplot(data = principal_df , x = 'PC1',y = 'PC2' , hue = '', s = 60 , palette= 'icefire')\n",
        "\n",
        "df = pd.DataFrame(dict(xAxis=principal_df[:,0], yAxis=principal_df[:,1], label=Y))\n",
        "diseases = df.groupby('label')\n",
        "\n",
        "fig, ax = plt.subplots()\n",
        "fig.suptitle('PCA of ' + 'pca_a')\n",
        "for Y, diseases in diseases:\n",
        "    ax.plot(diseases.xAxis, diseases.yAxis, marker='o', linestyle='', ms=4, label=Y)\n",
        "\n",
        "plt.xlabel('PCA1')\n",
        "plt.ylabel('PCA2')\n",
        "ax.legend()\n",
        "plt.savefig('PCA_' + file_name + \".png\", dpi = 400)\n",
        "print('Generating PCA plot')"
      ]
    }
  ],
  "metadata": {
    "colab": {
      "provenance": []
    },
    "kernelspec": {
      "display_name": "Python 3",
      "name": "python3"
    },
    "language_info": {
      "name": "python"
    }
  },
  "nbformat": 4,
  "nbformat_minor": 0
}
